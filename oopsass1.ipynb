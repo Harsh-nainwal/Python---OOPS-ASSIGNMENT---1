{
 "cells": [
  {
   "cell_type": "markdown",
   "id": "31602ec2-f51d-4669-af5e-0ac2171ff725",
   "metadata": {},
   "source": [
    "Q1. Explain Class and Object with respect to Object-Oriented Programming. Give a suitable example."
   ]
  },
  {
   "cell_type": "markdown",
   "id": "3981d5cd-ae15-4b1c-9a05-cdb7cd5d345f",
   "metadata": {},
   "source": [
    "Ans - A class is a template for creating objects. We can define multiple functions in a class with respect to different properties.\n",
    "An object is a specific instance of a class. It is created based on the structure and behavior of the class."
   ]
  },
  {
   "cell_type": "code",
   "execution_count": 2,
   "id": "62096967-cd05-4c88-8585-42cb3674a70b",
   "metadata": {},
   "outputs": [],
   "source": [
    "class man:\n",
    "    \n",
    "    def woman(self):\n",
    "        return \"I am a woman\""
   ]
  },
  {
   "cell_type": "code",
   "execution_count": 4,
   "id": "f0a60e0f-8229-413a-b092-edbe6ef0bfeb",
   "metadata": {},
   "outputs": [],
   "source": [
    "w = man()"
   ]
  },
  {
   "cell_type": "code",
   "execution_count": 5,
   "id": "99b1e2c9-76a7-4ef3-bfea-e1ca07faf786",
   "metadata": {},
   "outputs": [
    {
     "data": {
      "text/plain": [
       "'I am a woman'"
      ]
     },
     "execution_count": 5,
     "metadata": {},
     "output_type": "execute_result"
    }
   ],
   "source": [
    "w.woman()"
   ]
  },
  {
   "cell_type": "markdown",
   "id": "e7fa8868-3a00-42a6-a608-4d2c316c8c58",
   "metadata": {},
   "source": [
    "Here, class name is 'man' and its object is 'w'. "
   ]
  },
  {
   "cell_type": "markdown",
   "id": "d80e5918-ba04-465f-aa02-8f6a3917e184",
   "metadata": {},
   "source": [
    "Q2. Name the four pillars of OOPs."
   ]
  },
  {
   "cell_type": "markdown",
   "id": "344aa7f0-3cac-4016-b532-efa0a5496a0a",
   "metadata": {},
   "source": [
    "Ans - Four pillars of oops are : \n",
    "1) Encapsulation\n",
    "2) Inheritance\n",
    "3) Polymorphism\n",
    "4) Abstraction"
   ]
  },
  {
   "cell_type": "markdown",
   "id": "dd6a5c2d-e9d1-4d6c-ab43-07253ebe0191",
   "metadata": {},
   "source": [
    "Q3. Explain why the __init__() function is used. Give a suitable example."
   ]
  },
  {
   "cell_type": "markdown",
   "id": "7702957f-9c6c-44b1-8439-2c043b55c15a",
   "metadata": {},
   "source": [
    "Ans - '__init__' function is basically used to take parameters as input in a class."
   ]
  },
  {
   "cell_type": "code",
   "execution_count": 10,
   "id": "8e9f1c3c-f864-483a-b15f-3f53af4d1d4d",
   "metadata": {},
   "outputs": [],
   "source": [
    "class kanishka:\n",
    "    \n",
    "    def __init__(self, age, sex):\n",
    "        self.age = age\n",
    "        self.sex = sex\n",
    "        \n",
    "    def get_kanishka_details(self):\n",
    "        return self.age, self.sex"
   ]
  },
  {
   "cell_type": "code",
   "execution_count": 11,
   "id": "62bc89e2-8d08-4972-b6ec-986e7fdc108c",
   "metadata": {},
   "outputs": [],
   "source": [
    "kan = kanishka(15, \"Female\")"
   ]
  },
  {
   "cell_type": "code",
   "execution_count": 12,
   "id": "92b68f2e-d42a-4aaf-a561-7ab2c1b45510",
   "metadata": {},
   "outputs": [
    {
     "data": {
      "text/plain": [
       "(15, 'Female')"
      ]
     },
     "execution_count": 12,
     "metadata": {},
     "output_type": "execute_result"
    }
   ],
   "source": [
    "kan.get_kanishka_details()"
   ]
  },
  {
   "cell_type": "markdown",
   "id": "3adaf955-7183-4154-b167-ee9d1e89d477",
   "metadata": {},
   "source": [
    "Q4. Why self is used in OOPs?"
   ]
  },
  {
   "cell_type": "markdown",
   "id": "f658530c-fe4d-4814-916a-724a9fe3ceac",
   "metadata": {},
   "source": [
    "Ans - In oops, self is a common convention used to refer to the instance of a class within its own methods."
   ]
  },
  {
   "cell_type": "markdown",
   "id": "56ef9e65-eb92-422f-8749-63f70a49900e",
   "metadata": {},
   "source": [
    "Q5. What is inheritance? Give an example for each type of inheritance."
   ]
  },
  {
   "cell_type": "markdown",
   "id": "61e2ac11-83fd-41f2-b349-fc654ce33115",
   "metadata": {},
   "source": [
    "Ans - Inheritence is when properties of a class is inherited in other class. The class whose properties is inherited is called parent class and the class which inherits the properties is known as child class. Now by making the object of child class we can access all the methods of parent class as well as the child class.\n",
    "We have studied two types of inheritance : \n",
    "1) Single inheritance\n",
    "2) multiple inheritance\n",
    "Example : "
   ]
  },
  {
   "cell_type": "code",
   "execution_count": 14,
   "id": "77b26037-c141-49b8-9d6a-f3e0954a76f4",
   "metadata": {},
   "outputs": [],
   "source": [
    "class parent:\n",
    "    \n",
    "    def __init__(self, name, age):\n",
    "        self.name = name\n",
    "        self.age = age\n",
    "        \n",
    "    def ret(self):\n",
    "        return self.name, self.age\n",
    "    "
   ]
  },
  {
   "cell_type": "code",
   "execution_count": 15,
   "id": "e6bbd723-497c-4943-80e1-9ae63690bd4f",
   "metadata": {},
   "outputs": [],
   "source": [
    "class child(parent):\n",
    "    \n",
    "    def names(self):\n",
    "        print(f\"My parent name is {self.name}\")"
   ]
  },
  {
   "cell_type": "code",
   "execution_count": 16,
   "id": "be4692c3-a050-4e63-b1c4-dc4840ba0ade",
   "metadata": {},
   "outputs": [],
   "source": [
    "ch = child(\"Kavita\", 43)"
   ]
  },
  {
   "cell_type": "code",
   "execution_count": 17,
   "id": "ecc363dd-09fd-480f-bf0b-596673d3c5f5",
   "metadata": {},
   "outputs": [
    {
     "name": "stdout",
     "output_type": "stream",
     "text": [
      "My parent name is Kavita\n"
     ]
    }
   ],
   "source": [
    "ch.names()"
   ]
  },
  {
   "cell_type": "code",
   "execution_count": 18,
   "id": "2ab07d0c-9e66-4cdf-a8d4-5fdd212e87dc",
   "metadata": {},
   "outputs": [
    {
     "data": {
      "text/plain": [
       "('Kavita', 43)"
      ]
     },
     "execution_count": 18,
     "metadata": {},
     "output_type": "execute_result"
    }
   ],
   "source": [
    "ch.ret()"
   ]
  },
  {
   "cell_type": "markdown",
   "id": "8627f917-4996-4a26-8ab0-4272527641b7",
   "metadata": {},
   "source": [
    "This is the example of single inheritance."
   ]
  },
  {
   "cell_type": "code",
   "execution_count": 2,
   "id": "b297ecb8-a7a4-439d-b0e6-6c4f2d0ab859",
   "metadata": {},
   "outputs": [],
   "source": [
    "class parent:\n",
    "    \n",
    "    def __init__(self, name, age):\n",
    "        self.name = name\n",
    "        self.age = age\n",
    "        \n",
    "    def ret(self):\n",
    "        return self.name, self.age\n",
    "    "
   ]
  },
  {
   "cell_type": "code",
   "execution_count": 3,
   "id": "c425cd2b-55c9-4daa-a8a6-c260cd84539a",
   "metadata": {},
   "outputs": [],
   "source": [
    "class parent2:\n",
    "    \n",
    "    def __init__(self, name, age):\n",
    "        self.name = name\n",
    "        self.age = age\n",
    "        \n",
    "    def state(self):\n",
    "        print(f\"I am the second parent of the child. My name is {self.name} and age is {self.age}\")"
   ]
  },
  {
   "cell_type": "code",
   "execution_count": 5,
   "id": "ef7667b3-5e0e-4f77-ba5f-5336ab46ae3f",
   "metadata": {},
   "outputs": [],
   "source": [
    "class child(parent, parent2):\n",
    "    \n",
    "    def prin(self):\n",
    "        return \"Mission accomplished!!\""
   ]
  },
  {
   "cell_type": "code",
   "execution_count": null,
   "id": "6c37c4be-d545-45f7-921c-9138dbe0cb90",
   "metadata": {},
   "outputs": [],
   "source": [
    "c = child()"
   ]
  }
 ],
 "metadata": {
  "kernelspec": {
   "display_name": "Python 3 (ipykernel)",
   "language": "python",
   "name": "python3"
  },
  "language_info": {
   "codemirror_mode": {
    "name": "ipython",
    "version": 3
   },
   "file_extension": ".py",
   "mimetype": "text/x-python",
   "name": "python",
   "nbconvert_exporter": "python",
   "pygments_lexer": "ipython3",
   "version": "3.10.8"
  }
 },
 "nbformat": 4,
 "nbformat_minor": 5
}
